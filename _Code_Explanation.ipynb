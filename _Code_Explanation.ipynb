{
 "cells": [
  {
   "cell_type": "markdown",
   "metadata": {},
   "source": [
    "#### (1/2) _CODE_EXPLANATION: this file explains some of the methods used and data structures chosen (plus the first couple examples)"
   ]
  },
  {
   "cell_type": "code",
   "execution_count": 1,
   "metadata": {},
   "outputs": [],
   "source": [
    "from Node import Node\n",
    "from Constraint import Constraint\n",
    "from Sudoku import Sudoku"
   ]
  },
  {
   "cell_type": "markdown",
   "metadata": {},
   "source": [
    "#1) Our Solution Starts By Defining A Sudoku Object"
   ]
  },
  {
   "cell_type": "code",
   "execution_count": 2,
   "metadata": {},
   "outputs": [
    {
     "name": "stdout",
     "output_type": "stream",
     "text": [
      "Completed(Initial): 38/81(38)\n",
      "2,_,3,1,_,8,_,_,_\n",
      "8,_,_,_,_,_,7,4,2\n",
      "9,_,_,7,2,_,8,_,3\n",
      "_,9,8,_,7,3,_,6,_\n",
      "_,6,_,_,_,_,4,3,9\n",
      "_,3,1,9,6,_,_,7,_\n",
      "_,_,7,8,_,5,3,_,_\n",
      "_,_,_,_,3,_,6,_,7\n",
      "_,8,_,_,9,7,5,_,_\n"
     ]
    }
   ],
   "source": [
    "\n",
    "easy = Sudoku(\"_example_easy.txt\")\n",
    "easy.print_board()"
   ]
  },
  {
   "cell_type": "markdown",
   "metadata": {},
   "source": [
    "#2) Creating a SUDOKU object Creates A List Of List Of 'Node' type to represent individual squares on the game board. As seen below each contains its location, as well as its current domain"
   ]
  },
  {
   "cell_type": "code",
   "execution_count": 3,
   "metadata": {},
   "outputs": [
    {
     "data": {
      "text/plain": [
       "'y:0 x:1 d:[1,2,3,4,5,6,7,8,9]'"
      ]
     },
     "execution_count": 3,
     "metadata": {},
     "output_type": "execute_result"
    }
   ],
   "source": [
    "\n",
    "example_node = easy.board[0][1]\n",
    "str(example_node)\n"
   ]
  },
  {
   "cell_type": "markdown",
   "metadata": {},
   "source": [
    "#3) Creating a SUDOKU object then creates 'Constraint' type objects to determine the required relationship between node"
   ]
  },
  {
   "cell_type": "code",
   "execution_count": 4,
   "metadata": {},
   "outputs": [
    {
     "data": {
      "text/plain": [
       "'y:2 x:2 d:[1,2,3,4,5,6,7,8,9] != y:0 x:0 d:[2]'"
      ]
     },
     "execution_count": 4,
     "metadata": {},
     "output_type": "execute_result"
    }
   ],
   "source": [
    "example_constraint = easy.constraints[27]\n",
    "str(example_constraint)"
   ]
  },
  {
   "cell_type": "markdown",
   "metadata": {},
   "source": [
    "#4) Each Node is connected to relevant constraints for ease of use and computation later in the problem"
   ]
  },
  {
   "cell_type": "code",
   "execution_count": 5,
   "metadata": {},
   "outputs": [
    {
     "name": "stdout",
     "output_type": "stream",
     "text": [
      "  y:0 x:0 d:[2]                 != y:0 x:1 d:[1,2,3,4,5,6,7,8,9]\n",
      "  y:1 x:0 d:[8]                 != y:0 x:1 d:[1,2,3,4,5,6,7,8,9]\n",
      "  y:2 x:0 d:[9]                 != y:0 x:1 d:[1,2,3,4,5,6,7,8,9]\n",
      "  y:1 x:1 d:[1,2,3,4,5,6,7,8,9] != y:0 x:1 d:[1,2,3,4,5,6,7,8,9]\n",
      "  y:2 x:1 d:[1,2,3,4,5,6,7,8,9] != y:0 x:1 d:[1,2,3,4,5,6,7,8,9]\n",
      "  y:3 x:1 d:[9]                 != y:0 x:1 d:[1,2,3,4,5,6,7,8,9]\n",
      "  y:4 x:1 d:[6]                 != y:0 x:1 d:[1,2,3,4,5,6,7,8,9]\n",
      "  y:5 x:1 d:[3]                 != y:0 x:1 d:[1,2,3,4,5,6,7,8,9]\n",
      "  y:6 x:1 d:[1,2,3,4,5,6,7,8,9] != y:0 x:1 d:[1,2,3,4,5,6,7,8,9]\n",
      "  y:7 x:1 d:[1,2,3,4,5,6,7,8,9] != y:0 x:1 d:[1,2,3,4,5,6,7,8,9]\n",
      "  y:8 x:1 d:[8]                 != y:0 x:1 d:[1,2,3,4,5,6,7,8,9]\n",
      "  y:0 x:2 d:[3]                 != y:0 x:1 d:[1,2,3,4,5,6,7,8,9]\n",
      "  y:1 x:2 d:[1,2,3,4,5,6,7,8,9] != y:0 x:1 d:[1,2,3,4,5,6,7,8,9]\n",
      "  y:2 x:2 d:[1,2,3,4,5,6,7,8,9] != y:0 x:1 d:[1,2,3,4,5,6,7,8,9]\n",
      "  y:0 x:3 d:[1]                 != y:0 x:1 d:[1,2,3,4,5,6,7,8,9]\n",
      "  y:0 x:4 d:[1,2,3,4,5,6,7,8,9] != y:0 x:1 d:[1,2,3,4,5,6,7,8,9]\n",
      "  y:0 x:5 d:[8]                 != y:0 x:1 d:[1,2,3,4,5,6,7,8,9]\n",
      "  y:0 x:6 d:[1,2,3,4,5,6,7,8,9] != y:0 x:1 d:[1,2,3,4,5,6,7,8,9]\n",
      "  y:0 x:7 d:[1,2,3,4,5,6,7,8,9] != y:0 x:1 d:[1,2,3,4,5,6,7,8,9]\n",
      "  y:0 x:8 d:[1,2,3,4,5,6,7,8,9] != y:0 x:1 d:[1,2,3,4,5,6,7,8,9]\n"
     ]
    }
   ],
   "source": [
    "example_node.print_constraints()"
   ]
  },
  {
   "cell_type": "markdown",
   "metadata": {},
   "source": [
    "#5) From Here Our Sudoku Is Defined, so we move onto solving it using our 'Solve Function'. I will breakdown the solve function into its component methods (please see Demonstration for expansive use on examples)"
   ]
  },
  {
   "cell_type": "markdown",
   "metadata": {},
   "source": [
    "#6) SOLVE starts by confirming our board contains no obvious errors\n",
    "    (ie identical number in column in starting state)\n",
    "\n",
    "#7) SOLVE then runs AC_3 to make our board consistent"
   ]
  },
  {
   "cell_type": "code",
   "execution_count": 6,
   "metadata": {},
   "outputs": [
    {
     "name": "stdout",
     "output_type": "stream",
     "text": [
      "  y:0 x:0 d:[2]                 != y:0 x:1 d:[7]\n",
      "  y:1 x:0 d:[8]                 != y:0 x:1 d:[7]\n",
      "  y:2 x:0 d:[9]                 != y:0 x:1 d:[7]\n",
      "  y:1 x:1 d:[1]                 != y:0 x:1 d:[7]\n",
      "  y:2 x:1 d:[4]                 != y:0 x:1 d:[7]\n",
      "  y:3 x:1 d:[9]                 != y:0 x:1 d:[7]\n",
      "  y:4 x:1 d:[6]                 != y:0 x:1 d:[7]\n",
      "  y:5 x:1 d:[3]                 != y:0 x:1 d:[7]\n",
      "  y:6 x:1 d:[2]                 != y:0 x:1 d:[7]\n",
      "  y:7 x:1 d:[5]                 != y:0 x:1 d:[7]\n",
      "  y:8 x:1 d:[8]                 != y:0 x:1 d:[7]\n",
      "  y:0 x:2 d:[3]                 != y:0 x:1 d:[7]\n",
      "  y:1 x:2 d:[6]                 != y:0 x:1 d:[7]\n",
      "  y:2 x:2 d:[5]                 != y:0 x:1 d:[7]\n",
      "  y:0 x:3 d:[1]                 != y:0 x:1 d:[7]\n",
      "  y:0 x:4 d:[4]                 != y:0 x:1 d:[7]\n",
      "  y:0 x:5 d:[8]                 != y:0 x:1 d:[7]\n",
      "  y:0 x:6 d:[9]                 != y:0 x:1 d:[7]\n",
      "  y:0 x:7 d:[5]                 != y:0 x:1 d:[7]\n",
      "  y:0 x:8 d:[6]                 != y:0 x:1 d:[7]\n"
     ]
    }
   ],
   "source": [
    "easy.AC_3()\n",
    "example_node.print_constraints()\n"
   ]
  },
  {
   "cell_type": "markdown",
   "metadata": {},
   "source": [
    "#7) AC_3 returns either \n",
    "        None: implying no possible solution, \n",
    "        No: implying the board isnt goal state, \n",
    "        Yes: implying the board is goal state"
   ]
  },
  {
   "cell_type": "markdown",
   "metadata": {},
   "source": [
    "#8) Sometimes AC_3 can return our goal state, (such as this case), at which point we can stop"
   ]
  },
  {
   "cell_type": "code",
   "execution_count": 7,
   "metadata": {},
   "outputs": [
    {
     "name": "stdout",
     "output_type": "stream",
     "text": [
      "Completed(Initial): 81/81(38)\n",
      "2,7,3,1,4,8,9,5,6\n",
      "8,1,6,3,5,9,7,4,2\n",
      "9,4,5,7,2,6,8,1,3\n",
      "4,9,8,2,7,3,1,6,5\n",
      "7,6,2,5,8,1,4,3,9\n",
      "5,3,1,9,6,4,2,7,8\n",
      "6,2,7,8,1,5,3,9,4\n",
      "1,5,9,4,3,2,6,8,7\n",
      "3,8,4,6,9,7,5,2,1\n"
     ]
    },
    {
     "data": {
      "text/plain": [
       "True"
      ]
     },
     "execution_count": 7,
     "metadata": {},
     "output_type": "execute_result"
    }
   ],
   "source": [
    "easy.print_board()\n",
    "easy.is_solved()"
   ]
  },
  {
   "cell_type": "markdown",
   "metadata": {},
   "source": [
    "#9) However more Often AC_3 cant complete this puzzle alone"
   ]
  },
  {
   "cell_type": "code",
   "execution_count": 8,
   "metadata": {},
   "outputs": [
    {
     "name": "stdout",
     "output_type": "stream",
     "text": [
      "Completed(Initial): 25/81(24)\n",
      "3,_,_,_,5,_,2,_,_\n",
      "_,_,9,4,8,_,_,_,_\n",
      "1,4,_,7,_,_,_,_,_\n",
      "_,3,_,_,2,_,6,_,_\n",
      "8,_,_,_,4,_,_,3,_\n",
      "4,_,_,_,1,_,9,_,_\n",
      "_,5,_,_,_,_,_,1,_\n",
      "_,7,_,_,6,_,3,_,_\n",
      "_,_,_,_,_,9,_,5,_\n"
     ]
    },
    {
     "data": {
      "text/plain": [
       "False"
      ]
     },
     "execution_count": 8,
     "metadata": {},
     "output_type": "execute_result"
    }
   ],
   "source": [
    "hard = Sudoku(\"_example_hard.txt\")\n",
    "hard.AC_3()\n",
    "hard.print_board() \n",
    "hard.is_solved()"
   ]
  },
  {
   "cell_type": "markdown",
   "metadata": {},
   "source": [
    "#10) In this case, we then (assuming problem isnt impossible) need to run our BackTracking Search program BTS"
   ]
  },
  {
   "cell_type": "code",
   "execution_count": 9,
   "metadata": {},
   "outputs": [
    {
     "name": "stdout",
     "output_type": "stream",
     "text": [
      "Completed(Initial): 81/81(24)\n",
      "3,8,7,1,5,6,2,9,4\n",
      "5,6,9,4,8,2,1,7,3\n",
      "1,4,2,7,9,3,8,6,5\n",
      "7,3,5,9,2,8,6,4,1\n",
      "8,9,1,6,4,7,5,3,2\n",
      "4,2,6,3,1,5,9,8,7\n",
      "6,5,8,2,3,4,7,1,9\n",
      "9,7,4,5,6,1,3,2,8\n",
      "2,1,3,8,7,9,4,5,6\n"
     ]
    },
    {
     "data": {
      "text/plain": [
       "True"
      ]
     },
     "execution_count": 9,
     "metadata": {},
     "output_type": "execute_result"
    }
   ],
   "source": [
    "hard.BTS()\n",
    "hard.print_board()\n",
    "hard.is_solved()"
   ]
  },
  {
   "cell_type": "markdown",
   "metadata": {},
   "source": [
    "#11) The backtracking algorithm will determine the goal state, assuming solution is possible\n",
    "\n",
    "#12) Please see Demonstration.ipynb for this demonstrated through examples"
   ]
  }
 ],
 "metadata": {
  "kernelspec": {
   "display_name": "Python 3",
   "language": "python",
   "name": "python3"
  },
  "language_info": {
   "codemirror_mode": {
    "name": "ipython",
    "version": 3
   },
   "file_extension": ".py",
   "mimetype": "text/x-python",
   "name": "python",
   "nbconvert_exporter": "python",
   "pygments_lexer": "ipython3",
   "version": "3.11.5"
  }
 },
 "nbformat": 4,
 "nbformat_minor": 2
}
