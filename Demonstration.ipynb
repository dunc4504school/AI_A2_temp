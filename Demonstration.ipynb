{
 "cells": [
  {
   "cell_type": "code",
   "execution_count": 1,
   "metadata": {},
   "outputs": [],
   "source": [
    "from __future__ import annotations\n",
    "from typing import Callable, List, Optional, Tuple, Set\n",
    "\n",
    "from itertools import combinations\n",
    "from collections import deque\n",
    "\n",
    "from Node import Node\n",
    "from Constraint import Constraint\n",
    "from Sudoku import Sudoku"
   ]
  },
  {
   "cell_type": "markdown",
   "metadata": {},
   "source": [
    "#### EXAMPLE USAGE (FOR PROJECT DEMONSTRATION)"
   ]
  },
  {
   "cell_type": "code",
   "execution_count": 2,
   "metadata": {},
   "outputs": [
    {
     "name": "stdout",
     "output_type": "stream",
     "text": [
      "Completed(Initial): 38(38)\n",
      "2,_,3,1,_,8,_,_,_\n",
      "8,_,_,_,_,_,7,4,2\n",
      "9,_,_,7,2,_,8,_,3\n",
      "_,9,8,_,7,3,_,6,_\n",
      "_,6,_,_,_,_,4,3,9\n",
      "_,3,1,9,6,_,_,7,_\n",
      "_,_,7,8,_,5,3,_,_\n",
      "_,_,_,_,3,_,6,_,7\n",
      "_,8,_,_,9,7,5,_,_\n"
     ]
    }
   ],
   "source": [
    "easy = Sudoku(\"easy.txt\")  #Creating Board\n",
    "\n",
    "easy.print_board()  #Printing Current State"
   ]
  },
  {
   "cell_type": "code",
   "execution_count": 3,
   "metadata": {},
   "outputs": [],
   "source": [
    "#Creating The Constraints\n",
    "easy.create_binary_constraints()  \n"
   ]
  },
  {
   "cell_type": "code",
   "execution_count": 4,
   "metadata": {},
   "outputs": [
    {
     "data": {
      "text/plain": [
       "'y:0 x:0 [2]                  --> y:1 x:0 [8]'"
      ]
     },
     "execution_count": 4,
     "metadata": {},
     "output_type": "execute_result"
    }
   ],
   "source": [
    "#An Example Constraint\n",
    "str(easy.constraints[0])"
   ]
  },
  {
   "cell_type": "code",
   "execution_count": 5,
   "metadata": {},
   "outputs": [
    {
     "name": "stdout",
     "output_type": "stream",
     "text": [
      "  y:0 x:0 [2]                  --> y:0 x:1 [1,2,3,4,5,6,7,8,9]\n",
      "  y:1 x:0 [8]                  --> y:0 x:1 [1,2,3,4,5,6,7,8,9]\n",
      "  y:2 x:0 [9]                  --> y:0 x:1 [1,2,3,4,5,6,7,8,9]\n",
      "  y:1 x:1 [1,2,3,4,5,6,7,8,9]  --> y:0 x:1 [1,2,3,4,5,6,7,8,9]\n",
      "  y:2 x:1 [1,2,3,4,5,6,7,8,9]  --> y:0 x:1 [1,2,3,4,5,6,7,8,9]\n",
      "  y:3 x:1 [9]                  --> y:0 x:1 [1,2,3,4,5,6,7,8,9]\n",
      "  y:4 x:1 [6]                  --> y:0 x:1 [1,2,3,4,5,6,7,8,9]\n",
      "  y:5 x:1 [3]                  --> y:0 x:1 [1,2,3,4,5,6,7,8,9]\n",
      "  y:6 x:1 [1,2,3,4,5,6,7,8,9]  --> y:0 x:1 [1,2,3,4,5,6,7,8,9]\n",
      "  y:7 x:1 [1,2,3,4,5,6,7,8,9]  --> y:0 x:1 [1,2,3,4,5,6,7,8,9]\n",
      "  y:8 x:1 [8]                  --> y:0 x:1 [1,2,3,4,5,6,7,8,9]\n",
      "  y:0 x:2 [3]                  --> y:0 x:1 [1,2,3,4,5,6,7,8,9]\n",
      "  y:1 x:2 [1,2,3,4,5,6,7,8,9]  --> y:0 x:1 [1,2,3,4,5,6,7,8,9]\n",
      "  y:2 x:2 [1,2,3,4,5,6,7,8,9]  --> y:0 x:1 [1,2,3,4,5,6,7,8,9]\n",
      "  y:0 x:3 [1]                  --> y:0 x:1 [1,2,3,4,5,6,7,8,9]\n",
      "  y:0 x:4 [1,2,3,4,5,6,7,8,9]  --> y:0 x:1 [1,2,3,4,5,6,7,8,9]\n",
      "  y:0 x:5 [8]                  --> y:0 x:1 [1,2,3,4,5,6,7,8,9]\n",
      "  y:0 x:6 [1,2,3,4,5,6,7,8,9]  --> y:0 x:1 [1,2,3,4,5,6,7,8,9]\n",
      "  y:0 x:7 [1,2,3,4,5,6,7,8,9]  --> y:0 x:1 [1,2,3,4,5,6,7,8,9]\n",
      "  y:0 x:8 [1,2,3,4,5,6,7,8,9]  --> y:0 x:1 [1,2,3,4,5,6,7,8,9]\n"
     ]
    }
   ],
   "source": [
    "#An example of all constraints for a given space\n",
    "#(NOTE: row, column, box)\n",
    "easy.board[0][1].print_constraints()"
   ]
  },
  {
   "cell_type": "code",
   "execution_count": 6,
   "metadata": {},
   "outputs": [
    {
     "name": "stdout",
     "output_type": "stream",
     "text": [
      "  y:0 x:0 [2]                  --> y:0 x:1 [7]\n",
      "  y:1 x:0 [8]                  --> y:0 x:1 [7]\n",
      "  y:2 x:0 [9]                  --> y:0 x:1 [7]\n",
      "  y:1 x:1 [1]                  --> y:0 x:1 [7]\n",
      "  y:2 x:1 [4]                  --> y:0 x:1 [7]\n",
      "  y:3 x:1 [9]                  --> y:0 x:1 [7]\n",
      "  y:4 x:1 [6]                  --> y:0 x:1 [7]\n",
      "  y:5 x:1 [3]                  --> y:0 x:1 [7]\n",
      "  y:6 x:1 [2]                  --> y:0 x:1 [7]\n",
      "  y:7 x:1 [5]                  --> y:0 x:1 [7]\n",
      "  y:8 x:1 [8]                  --> y:0 x:1 [7]\n",
      "  y:0 x:2 [3]                  --> y:0 x:1 [7]\n",
      "  y:1 x:2 [6]                  --> y:0 x:1 [7]\n",
      "  y:2 x:2 [5]                  --> y:0 x:1 [7]\n",
      "  y:0 x:3 [1]                  --> y:0 x:1 [7]\n",
      "  y:0 x:4 [4]                  --> y:0 x:1 [7]\n",
      "  y:0 x:5 [8]                  --> y:0 x:1 [7]\n",
      "  y:0 x:6 [9]                  --> y:0 x:1 [7]\n",
      "  y:0 x:7 [5]                  --> y:0 x:1 [7]\n",
      "  y:0 x:8 [6]                  --> y:0 x:1 [7]\n"
     ]
    }
   ],
   "source": [
    "#Implementing AC to make our domains arc consistent\n",
    "easy.AC_3()\n",
    "\n",
    "easy.board[0][1].print_constraints()"
   ]
  },
  {
   "cell_type": "code",
   "execution_count": 7,
   "metadata": {},
   "outputs": [
    {
     "name": "stdout",
     "output_type": "stream",
     "text": [
      "Completed(Initial): 81(38)\n",
      "2,7,3,1,4,8,9,5,6\n",
      "8,1,6,3,5,9,7,4,2\n",
      "9,4,5,7,2,6,8,1,3\n",
      "4,9,8,2,7,3,1,6,5\n",
      "7,6,2,5,8,1,4,3,9\n",
      "5,3,1,9,6,4,2,7,8\n",
      "6,2,7,8,1,5,3,9,4\n",
      "1,5,9,4,3,2,6,8,7\n",
      "3,8,4,6,9,7,5,2,1\n"
     ]
    }
   ],
   "source": [
    "#Changed Board\n",
    "#(NOTE: in some cases this is goal state)\n",
    "easy.print_board()"
   ]
  },
  {
   "cell_type": "code",
   "execution_count": 8,
   "metadata": {},
   "outputs": [
    {
     "name": "stdout",
     "output_type": "stream",
     "text": [
      "Completed(Initial): 24(24)\n",
      "3,_,_,_,5,_,2,_,_\n",
      "_,_,9,4,8,_,_,_,_\n",
      "1,4,_,7,_,_,_,_,_\n",
      "_,3,_,_,2,_,6,_,_\n",
      "8,_,_,_,4,_,_,3,_\n",
      "4,_,_,_,1,_,9,_,_\n",
      "_,5,_,_,_,_,_,1,_\n",
      "_,7,_,_,_,_,3,_,_\n",
      "_,_,_,_,_,9,_,5,_\n"
     ]
    }
   ],
   "source": [
    "#Trying Anouther Example\n",
    "hard = Sudoku('hard.txt')\n",
    "hard.create_binary_constraints() \n",
    "hard.print_board() "
   ]
  },
  {
   "cell_type": "code",
   "execution_count": 9,
   "metadata": {},
   "outputs": [
    {
     "name": "stdout",
     "output_type": "stream",
     "text": [
      "Completed(Initial): 25(24)\n",
      "3,_,_,_,5,_,2,_,_\n",
      "_,_,9,4,8,_,_,_,_\n",
      "1,4,_,7,_,_,_,_,_\n",
      "_,3,_,_,2,_,6,_,_\n",
      "8,_,_,_,4,_,_,3,_\n",
      "4,_,_,_,1,_,9,_,_\n",
      "_,5,_,_,_,_,_,1,_\n",
      "_,7,_,_,6,_,3,_,_\n",
      "_,_,_,_,_,9,_,5,_\n"
     ]
    }
   ],
   "source": [
    "#Implementing to make ARC consistent\n",
    "hard.AC_3()\n",
    "\n",
    "#Changed Board\n",
    "#(NOTE: in some cases, arc consistent isnt goal state)\n",
    "hard.print_board()"
   ]
  }
 ],
 "metadata": {
  "kernelspec": {
   "display_name": "Python 3",
   "language": "python",
   "name": "python3"
  },
  "language_info": {
   "codemirror_mode": {
    "name": "ipython",
    "version": 3
   },
   "file_extension": ".py",
   "mimetype": "text/x-python",
   "name": "python",
   "nbconvert_exporter": "python",
   "pygments_lexer": "ipython3",
   "version": "3.11.5"
  }
 },
 "nbformat": 4,
 "nbformat_minor": 2
}
