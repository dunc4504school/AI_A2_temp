{
 "cells": [
  {
   "cell_type": "markdown",
   "metadata": {},
   "source": [
    "#### (2/2) DEMONSTRATION: this file solves (or attempts to) several examples"
   ]
  },
  {
   "cell_type": "code",
   "execution_count": 1,
   "metadata": {},
   "outputs": [],
   "source": [
    "from Node import Node\n",
    "from Constraint import Constraint\n",
    "from Sudoku import Sudoku"
   ]
  },
  {
   "cell_type": "code",
   "execution_count": 2,
   "metadata": {},
   "outputs": [
    {
     "name": "stdout",
     "output_type": "stream",
     "text": [
      "Valid Start: Yes\n",
      "Starting:    38\n",
      "After AC_3:  81 - Solved\n",
      "\n",
      "Completed(Initial): 81/81(38)\n",
      "2,7,3,1,4,8,9,5,6\n",
      "8,1,6,3,5,9,7,4,2\n",
      "9,4,5,7,2,6,8,1,3\n",
      "4,9,8,2,7,3,1,6,5\n",
      "7,6,2,5,8,1,4,3,9\n",
      "5,3,1,9,6,4,2,7,8\n",
      "6,2,7,8,1,5,3,9,4\n",
      "1,5,9,4,3,2,6,8,7\n",
      "3,8,4,6,9,7,5,2,1\n"
     ]
    }
   ],
   "source": [
    "#Example 1: Easy - Solvable Using AC_3\n",
    "\n",
    "easy = Sudoku(\"_example_easy.txt\")\n",
    "easy.solve()"
   ]
  },
  {
   "cell_type": "code",
   "execution_count": 3,
   "metadata": {},
   "outputs": [
    {
     "name": "stdout",
     "output_type": "stream",
     "text": [
      "Valid Start: Yes\n",
      "Starting:    34\n",
      "After AC_3:  52\n",
      "After BTS:   81 - Solved\n",
      "\n",
      "Completed(Initial): 81/81(34)\n",
      "2,1,8,9,5,6,3,7,4\n",
      "5,3,9,1,4,7,2,8,6\n",
      "4,7,6,8,2,3,1,9,5\n",
      "7,2,1,3,6,9,4,5,8\n",
      "6,9,5,4,1,8,7,3,2\n",
      "8,4,3,2,7,5,6,1,9\n",
      "1,6,7,5,9,2,8,4,3\n",
      "3,5,2,7,8,4,9,6,1\n",
      "9,8,4,6,3,1,5,2,7\n"
     ]
    }
   ],
   "source": [
    "#Example 2: Medium - Half Solved Using AC_3, Other Half BTS\n",
    "medium = Sudoku(\"_example_medium.txt\")\n",
    "medium.solve()"
   ]
  },
  {
   "cell_type": "code",
   "execution_count": 4,
   "metadata": {},
   "outputs": [
    {
     "name": "stdout",
     "output_type": "stream",
     "text": [
      "Valid Start: Yes\n",
      "Starting:    24\n",
      "After AC_3:  25\n",
      "After BTS:   81 - Solved\n",
      "\n",
      "Completed(Initial): 81/81(24)\n",
      "3,8,7,1,5,6,2,9,4\n",
      "5,6,9,4,8,2,1,7,3\n",
      "1,4,2,7,9,3,8,6,5\n",
      "7,3,5,9,2,8,6,4,1\n",
      "8,9,1,6,4,7,5,3,2\n",
      "4,2,6,3,1,5,9,8,7\n",
      "6,5,8,2,3,4,7,1,9\n",
      "9,7,4,5,6,1,3,2,8\n",
      "2,1,3,8,7,9,4,5,6\n"
     ]
    }
   ],
   "source": [
    "#Example 3: Hard - Almost Entirely Solved With BST\n",
    "hard = Sudoku(\"_example_hard.txt\")\n",
    "hard.solve()"
   ]
  },
  {
   "cell_type": "code",
   "execution_count": 5,
   "metadata": {},
   "outputs": [
    {
     "name": "stdout",
     "output_type": "stream",
     "text": [
      "Valid Start: No\n",
      "...\n",
      "\n",
      "Completed(Initial): 8/81(8)\n",
      "_,_,_,_,5,_,_,_,_\n",
      "_,_,_,_,_,_,_,_,_\n",
      "_,_,_,_,_,_,_,_,_\n",
      "_,_,6,_,_,_,_,6,_\n",
      "_,_,_,_,_,_,_,_,_\n",
      "_,_,_,_,_,_,_,_,_\n",
      "1,_,_,_,_,_,_,_,_\n",
      "_,1,_,_,_,_,_,2,_\n",
      "_,_,_,_,5,_,_,2,_\n"
     ]
    }
   ],
   "source": [
    "#Example 4: Error - Invalid Starting Numbers\n",
    "initial_flawed = Sudoku(\"_example_initial_flawed.txt\")\n",
    "initial_flawed.solve()"
   ]
  },
  {
   "cell_type": "code",
   "execution_count": 6,
   "metadata": {},
   "outputs": [
    {
     "name": "stdout",
     "output_type": "stream",
     "text": [
      "Valid Start: Yes\n",
      "Starting:    12\n",
      "After AC_3:  Invalid Puzzle Discovered\n",
      "...\n",
      "\n",
      "Completed(Initial): 14/81(12)\n",
      "_,_,_,7,_,_,_,_,_\n",
      "_,_,_,_,_,_,_,_,_\n",
      "_,_,_,_,_,_,_,_,_\n",
      "_,_,7,_,9,8,_,_,_\n",
      "_,_,_,1,2,3,_,_,_\n",
      "_,_,_,4,5,6,_,_,7\n",
      "_,_,_,_,8,9,_,_,_\n",
      "_,_,_,_,_,_,_,_,_\n",
      "_,_,_,_,_,7,_,_,_\n"
     ]
    }
   ],
   "source": [
    "#EXAMPLE 5: Error - Invalid State Discovered Within AC_3\n",
    "later_flawed = Sudoku(\"_example_later_flawed.txt\")\n",
    "later_flawed.solve()"
   ]
  }
 ],
 "metadata": {
  "kernelspec": {
   "display_name": "Python 3",
   "language": "python",
   "name": "python3"
  },
  "language_info": {
   "codemirror_mode": {
    "name": "ipython",
    "version": 3
   },
   "file_extension": ".py",
   "mimetype": "text/x-python",
   "name": "python",
   "nbconvert_exporter": "python",
   "pygments_lexer": "ipython3",
   "version": "3.11.5"
  }
 },
 "nbformat": 4,
 "nbformat_minor": 2
}
